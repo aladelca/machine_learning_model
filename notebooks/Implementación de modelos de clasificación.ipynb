{
    "cells": [
        {
            "cell_type": "markdown",
            "metadata": {},
            "source": [
                "<style type=\"text/css\">\n",
                "  body{\n",
                "  font-size: 11pt;\n",
                "  font-family: Segoe UI;\n",
                "}\n",
                "</style>\n",
                "![](https://user-images.githubusercontent.com/83436724/166116197-cbe1a8bc-e1df-4cac-ad5e-9f6cd9f0f43c.png)\n"
            ]
        },
        {
            "cell_type": "markdown",
            "metadata": {},
            "source": [
                "## Modelos de clasificación aplicados a credit scoring\n",
                "#### Autor: Carlos Adrián Alarcón [LinkedIn](https://www.linkedin.com/in/carlos-adrian-alarcon-delgado/)\n",
                "\n",
                "En el presente ejemplo, vamos a desarrollar varios modelos con el fin de predecir si un cliente entrará o no en default (incumplimiento de pago). Para eso, vamos a utilizar un dataset con las siguientes variables:\n",
                "\n",
                "* Edad: edad del cliente\n",
                "* Nivel educacional: nivel educacional alcanzado por el cliente\n",
                "* Años trabajando: años de experiencia laboral del cliente\n",
                "* Ingresos: monto de ingresos del cliente encriptado\n",
                "* Deuda comercial: deuda de tipo comercial del cliente\n",
                "* Deuda crédito: deuda de consumo del cliente\n",
                "* Otras deudas: deudas no comerciales ni de consumo del cliente\n",
                "* Ratio Ingresos Deudas: proporción de ingresos sobre deudas totales del cliente\n",
                "* Default: incumplimiento de cliente en el pago\n",
                "\n",
                "### Carga de datos\n",
                "\n",
                "Comenzaremos con cargar el dataset\n"
            ]
        },
        {
            "cell_type": "code",
            "execution_count": 17,
            "metadata": {
                "vscode": {
                    "languageId": "r"
                }
            },
            "outputs": [],
            "source": [
                "## Cargar datos\n",
                "\n",
                "library(readxl)\n",
                "library(tidyverse)\n",
                "library(RCurl)\n",
                "data_inicial = read.csv('https://raw.githubusercontent.com/calarcond/machine_learning_model/main/archivos_trabajo/data_credito.csv')\n",
                "\n",
                "## Renombrar columnas para mejor entendimiento\n",
                "\n",
                "colnames(data_inicial)[1] = 'idCliente'\n",
                "colnames(data_inicial)[4] = 'Años_Trabajando'\n",
                "\n",
                "data_inicial$Default = as.factor(data_inicial$Default)\n"
            ]
        },
        {
            "cell_type": "markdown",
            "metadata": {},
            "source": [
                "### Análisis exploratorio\n",
                "\n",
                "A partir del dataset anterior, realizaremos el análisis exploratorio del dataset\n"
            ]
        },
        {
            "cell_type": "code",
            "execution_count": 18,
            "metadata": {
                "vscode": {
                    "languageId": "r"
                }
            },
            "outputs": [
                {
                    "data": {
                        "text/plain": [
                            "   idCliente          Edad       Nivel_Educacional  Años_Trabajando \n",
                            " Min.   :    1   Min.   :18.00   Length:10000       Min.   : 0.000  \n",
                            " 1st Qu.: 2501   1st Qu.:24.00   Class :character   1st Qu.: 0.000  \n",
                            " Median : 5000   Median :31.00   Mode  :character   Median : 4.000  \n",
                            " Mean   : 5000   Mean   :34.18                      Mean   : 6.962  \n",
                            " 3rd Qu.: 7500   3rd Qu.:42.00                      3rd Qu.:10.000  \n",
                            " Max.   :10000   Max.   :79.00                      Max.   :63.000  \n",
                            "    Ingresos       Deuda_Comercial  Deuda_Credito     Otras_Deudas   \n",
                            " Min.   :  12.00   Min.   : 0.000   Min.   : 0.000   Min.   : 0.000  \n",
                            " 1st Qu.:  27.00   1st Qu.: 4.800   1st Qu.: 0.420   1st Qu.: 1.110  \n",
                            " Median :  40.00   Median : 8.500   Median : 1.000   Median : 2.220  \n",
                            " Mean   :  59.69   Mean   : 9.955   Mean   : 1.945   Mean   : 3.865  \n",
                            " 3rd Qu.:  64.00   3rd Qu.:13.600   3rd Qu.: 2.210   3rd Qu.: 4.590  \n",
                            " Max.   :1079.00   Max.   :40.700   Max.   :35.970   Max.   :63.470  \n",
                            " Ratio_Ingresos_Deudas Default \n",
                            " Min.   :0.0000        0:3664  \n",
                            " 1st Qu.:0.1500        1:6336  \n",
                            " Median :0.2900                \n",
                            " Mean   :0.3659                \n",
                            " 3rd Qu.:0.5000                \n",
                            " Max.   :2.1500                "
                        ]
                    },
                    "metadata": {},
                    "output_type": "display_data"
                },
                {
                    "name": "stdout",
                    "output_type": "stream",
                    "text": [
                        "[1] \"El dataset tiene 10 columnas y 10000 filas\"\n"
                    ]
                }
            ],
            "source": [
                "summary(data_inicial)\n",
                "columnas = ncol(data_inicial)\n",
                "filas = nrow(data_inicial)\n",
                "print(paste('El dataset tiene',columnas,'columnas y',filas, 'filas'))\n"
            ]
        },
        {
            "cell_type": "markdown",
            "metadata": {},
            "source": [
                "Haremos, a continuación, un análisis gráfico de las variables\n",
                "\n"
            ]
        },
        {
            "cell_type": "code",
            "execution_count": 19,
            "metadata": {
                "vscode": {
                    "languageId": "r"
                }
            },
            "outputs": [
                {
                    "name": "stderr",
                    "output_type": "stream",
                    "text": [
                        "`stat_bin()` using `bins = 30`. Pick better value with `binwidth`.\n",
                        "\n",
                        "`stat_bin()` using `bins = 30`. Pick better value with `binwidth`.\n",
                        "\n",
                        "`stat_bin()` using `bins = 30`. Pick better value with `binwidth`.\n",
                        "\n",
                        "`stat_bin()` using `bins = 30`. Pick better value with `binwidth`.\n",
                        "\n",
                        "`stat_bin()` using `bins = 30`. Pick better value with `binwidth`.\n",
                        "\n",
                        "`stat_bin()` using `bins = 30`. Pick better value with `binwidth`.\n",
                        "\n",
                        "`stat_bin()` using `bins = 30`. Pick better value with `binwidth`.\n",
                        "\n"
                    ]
                },
                {
                    "data": {
                        "image/png": "[encoded data removed]",
                        "text/plain": [
                            "plot without title"
                        ]
                    },
                    "metadata": {
                        "image/png": {
                            "height": 420,
                            "width": 420
                        }
                    },
                    "output_type": "display_data"
                }
            ],
            "source": [
                "library(ggplot2)\n",
                "library(GGally)\n",
                "ggpairs(data_inicial[,c(2,4,5,6,7,8,9,10)], aes(color = Default))\n"
            ]
        },
        {
            "cell_type": "markdown",
            "metadata": {},
            "source": [
                "A continuación, revisaremos si es que la variable objetivo está balanceada\n",
                "\n"
            ]
        },
        {
            "cell_type": "code",
            "execution_count": 20,
            "metadata": {
                "vscode": {
                    "languageId": "r"
                }
            },
            "outputs": [
                {
                    "data": {
                        "text/plain": [
                            "\n",
                            "   0    1 \n",
                            "3664 6336 "
                        ]
                    },
                    "metadata": {},
                    "output_type": "display_data"
                },
                {
                    "data": {
                        "image/png": "[encoded data removed]",
                        "text/plain": [
                            "plot without title"
                        ]
                    },
                    "metadata": {
                        "image/png": {
                            "height": 420,
                            "width": 420
                        }
                    },
                    "output_type": "display_data"
                }
            ],
            "source": [
                "table(data_inicial$Default)\n",
                "plot(data_inicial$Default) \n"
            ]
        },
        {
            "cell_type": "markdown",
            "metadata": {},
            "source": [
                "### DataPrep\n",
                "\n",
                "Realizaremos la transformación de la variables categóricas haciendo uso de la técnica One Hot Encoding\n"
            ]
        },
        {
            "cell_type": "code",
            "execution_count": 21,
            "metadata": {
                "vscode": {
                    "languageId": "r"
                }
            },
            "outputs": [
                {
                    "data": {
                        "text/plain": [
                            "      Edad       Nivel_EducacionalBas Nivel_EducacionalMed\n",
                            " Min.   :18.00   Min.   :0.0000       Min.   :0.0000      \n",
                            " 1st Qu.:24.00   1st Qu.:0.0000       1st Qu.:0.0000      \n",
                            " Median :31.00   Median :0.0000       Median :0.0000      \n",
                            " Mean   :34.18   Mean   :0.1631       Mean   :0.3517      \n",
                            " 3rd Qu.:42.00   3rd Qu.:0.0000       3rd Qu.:1.0000      \n",
                            " Max.   :79.00   Max.   :1.0000       Max.   :1.0000      \n",
                            " Nivel_EducacionalPosg Nivel_EducacionalSupCom Nivel_EducacionalSupInc\n",
                            " Min.   :0.0000        Min.   :0.0000          Min.   :0.0000         \n",
                            " 1st Qu.:0.0000        1st Qu.:0.0000          1st Qu.:0.0000         \n",
                            " Median :0.0000        Median :0.0000          Median :0.0000         \n",
                            " Mean   :0.0563        Mean   :0.2072          Mean   :0.2217         \n",
                            " 3rd Qu.:0.0000        3rd Qu.:0.0000          3rd Qu.:0.0000         \n",
                            " Max.   :1.0000        Max.   :1.0000          Max.   :1.0000         \n",
                            " Años_Trabajando     Ingresos       Deuda_Comercial  Deuda_Credito   \n",
                            " Min.   : 0.000   Min.   :  12.00   Min.   : 0.000   Min.   : 0.000  \n",
                            " 1st Qu.: 0.000   1st Qu.:  27.00   1st Qu.: 4.800   1st Qu.: 0.420  \n",
                            " Median : 4.000   Median :  40.00   Median : 8.500   Median : 1.000  \n",
                            " Mean   : 6.962   Mean   :  59.69   Mean   : 9.955   Mean   : 1.945  \n",
                            " 3rd Qu.:10.000   3rd Qu.:  64.00   3rd Qu.:13.600   3rd Qu.: 2.210  \n",
                            " Max.   :63.000   Max.   :1079.00   Max.   :40.700   Max.   :35.970  \n",
                            "  Otras_Deudas    Ratio_Ingresos_Deudas Default \n",
                            " Min.   : 0.000   Min.   :0.0000        0:3664  \n",
                            " 1st Qu.: 1.110   1st Qu.:0.1500        1:6336  \n",
                            " Median : 2.220   Median :0.2900                \n",
                            " Mean   : 3.865   Mean   :0.3659                \n",
                            " 3rd Qu.: 4.590   3rd Qu.:0.5000                \n",
                            " Max.   :63.470   Max.   :2.1500                "
                        ]
                    },
                    "metadata": {},
                    "output_type": "display_data"
                }
            ],
            "source": [
                "library(caret)\n",
                "\n",
                "dummy_vars = dummyVars('~.', data = data_inicial[,c(1:9)])\n",
                "data_modelo = data.frame(predict(dummy_vars, newdata = data_inicial))\n",
                "data_modelo$Default = data_inicial$Default\n",
                "data_modelo = data_modelo[,c(2,3,4,5,6,7,8,9,10,11,12,13,14)]\n",
                "summary(data_modelo)\n"
            ]
        },
        {
            "cell_type": "markdown",
            "metadata": {},
            "source": [
                "Con todas las variables, procederemos a hacer el split entre los sets de train y de test. En este caso, utilizaremos una proporción 70% vs. 30%\n",
                "\n"
            ]
        },
        {
            "cell_type": "code",
            "execution_count": 22,
            "metadata": {
                "vscode": {
                    "languageId": "r"
                }
            },
            "outputs": [],
            "source": [
                "library(dplyr)\n",
                "split = sample(c(rep(0,0.7*nrow(data_modelo)),rep(1,0.3*nrow(data_modelo))))\n",
                "data_modelo$split = split\n",
                "train = data_modelo[split == 0,]\n",
                "train = subset(train, select = -c(14))\n",
                "test = data_modelo[split == 1,]\n",
                "test = subset(test, select = -c(14))\n",
                "train = train %>% mutate(DefaultObj = case_when(Default == '1' ~ 1, TRUE ~ 0))\n",
                "test = test %>% mutate(DefaultObj = case_when(Default == '1' ~ 1, TRUE ~ 0))\n"
            ]
        },
        {
            "cell_type": "markdown",
            "metadata": {},
            "source": [
                "### Entrenamiento de modelos\n",
                "\n",
                "Ahora, entrenaremos diversos modelos. Por el momento, no entraremos al detalle técnico de cada uno, solamente nos enfocaremos en la implementación básica del modelo.\n",
                "\n",
                "#### XGBoost\n"
            ]
        },
        {
            "cell_type": "code",
            "execution_count": 23,
            "metadata": {
                "vscode": {
                    "languageId": "r"
                }
            },
            "outputs": [
                {
                    "name": "stdout",
                    "output_type": "stream",
                    "text": [
                        "[1]\ttrain-logloss:0.574276 \n",
                        "[2]\ttrain-logloss:0.501044 \n",
                        "[3]\ttrain-logloss:0.449728 \n",
                        "[4]\ttrain-logloss:0.413099 \n",
                        "[5]\ttrain-logloss:0.384582 \n",
                        "[6]\ttrain-logloss:0.360990 \n",
                        "[7]\ttrain-logloss:0.343130 \n",
                        "[8]\ttrain-logloss:0.332280 \n",
                        "[9]\ttrain-logloss:0.318254 \n",
                        "[10]\ttrain-logloss:0.303186 \n",
                        "[11]\ttrain-logloss:0.293923 \n",
                        "[12]\ttrain-logloss:0.288037 \n",
                        "[13]\ttrain-logloss:0.279779 \n",
                        "[14]\ttrain-logloss:0.271979 \n",
                        "[15]\ttrain-logloss:0.261461 \n",
                        "[16]\ttrain-logloss:0.256929 \n",
                        "[17]\ttrain-logloss:0.247684 \n",
                        "[18]\ttrain-logloss:0.237712 \n",
                        "[19]\ttrain-logloss:0.232669 \n",
                        "[20]\ttrain-logloss:0.229588 \n",
                        "[21]\ttrain-logloss:0.222882 \n",
                        "[22]\ttrain-logloss:0.210632 \n",
                        "[23]\ttrain-logloss:0.208978 \n",
                        "[24]\ttrain-logloss:0.199709 \n",
                        "[25]\ttrain-logloss:0.191128 \n",
                        "[26]\ttrain-logloss:0.189362 \n",
                        "[27]\ttrain-logloss:0.180060 \n",
                        "[28]\ttrain-logloss:0.171554 \n",
                        "[29]\ttrain-logloss:0.165908 \n",
                        "[30]\ttrain-logloss:0.159278 \n",
                        "[31]\ttrain-logloss:0.157700 \n",
                        "[32]\ttrain-logloss:0.153243 \n",
                        "[33]\ttrain-logloss:0.149385 \n",
                        "[34]\ttrain-logloss:0.144275 \n",
                        "[35]\ttrain-logloss:0.138978 \n",
                        "[36]\ttrain-logloss:0.137299 \n",
                        "[37]\ttrain-logloss:0.135891 \n",
                        "[38]\ttrain-logloss:0.129074 \n",
                        "[39]\ttrain-logloss:0.123658 \n",
                        "[40]\ttrain-logloss:0.121676 \n",
                        "[41]\ttrain-logloss:0.120695 \n",
                        "[42]\ttrain-logloss:0.112883 \n",
                        "[43]\ttrain-logloss:0.108583 \n",
                        "[44]\ttrain-logloss:0.107718 \n",
                        "[45]\ttrain-logloss:0.106457 \n",
                        "[46]\ttrain-logloss:0.101851 \n",
                        "[47]\ttrain-logloss:0.099262 \n",
                        "[48]\ttrain-logloss:0.095438 \n",
                        "[49]\ttrain-logloss:0.091128 \n",
                        "[50]\ttrain-logloss:0.088225 \n"
                    ]
                },
                {
                    "data": {
                        "text/plain": [
                            "               Length Class              Mode       \n",
                            "handle              1 xgb.Booster.handle externalptr\n",
                            "raw            151801 -none-             raw        \n",
                            "niter               1 -none-             numeric    \n",
                            "evaluation_log      2 data.table         list       \n",
                            "call               14 -none-             call       \n",
                            "params              2 -none-             list       \n",
                            "callbacks           2 -none-             list       \n",
                            "feature_names      12 -none-             character  \n",
                            "nfeatures           1 -none-             numeric    "
                        ]
                    },
                    "metadata": {},
                    "output_type": "display_data"
                }
            ],
            "source": [
                "library(xgboost)\n",
                "library(e1071)\n",
                "x_train = data.matrix(subset(train, select = -c(13,14)))\n",
                "y_train = train$DefaultObj\n",
                "x_test = data.matrix(subset(test, select = -c(13,14)))\n",
                "y_test = test$DefaultObj\n",
                "\n",
                "xgb_train = xgb.DMatrix(data = x_train, label = y_train)\n",
                "xgb_test = xgb.DMatrix(data = x_test, label = y_test)\n",
                "modelo_xgb = xgboost(data = xgb_train, nrounds = 50, objective = 'binary:logistic')\n",
                "summary(modelo_xgb)\n",
                "pred_test = predict(modelo_xgb, xgb_test)\n"
            ]
        },
        {
            "cell_type": "code",
            "execution_count": 24,
            "metadata": {
                "vscode": {
                    "languageId": "r"
                }
            },
            "outputs": [
                {
                    "data": {
                        "text/plain": [
                            "Confusion Matrix and Statistics\n",
                            "\n",
                            "      y_pred_xgb\n",
                            "y_test    0    1\n",
                            "     0 1087   23\n",
                            "     1    5 1885\n",
                            "                                          \n",
                            "               Accuracy : 0.9907          \n",
                            "                 95% CI : (0.9865, 0.9938)\n",
                            "    No Information Rate : 0.636           \n",
                            "    P-Value [Acc > NIR] : < 2.2e-16       \n",
                            "                                          \n",
                            "                  Kappa : 0.9799          \n",
                            "                                          \n",
                            " Mcnemar's Test P-Value : 0.001315        \n",
                            "                                          \n",
                            "            Sensitivity : 0.9954          \n",
                            "            Specificity : 0.9879          \n",
                            "         Pos Pred Value : 0.9793          \n",
                            "         Neg Pred Value : 0.9974          \n",
                            "             Prevalence : 0.3640          \n",
                            "         Detection Rate : 0.3623          \n",
                            "   Detection Prevalence : 0.3700          \n",
                            "      Balanced Accuracy : 0.9917          \n",
                            "                                          \n",
                            "       'Positive' Class : 0               \n",
                            "                                          "
                        ]
                    },
                    "metadata": {},
                    "output_type": "display_data"
                }
            ],
            "source": [
                "### Probabilidades\n",
                "y_pred_xgb = as.numeric(pred_test > 0.5)\n",
                "cm_xgb = table(y_test,y_pred_xgb)\n",
                "confusionMatrix(cm_xgb)\n"
            ]
        },
        {
            "cell_type": "code",
            "execution_count": 25,
            "metadata": {
                "vscode": {
                    "languageId": "r"
                }
            },
            "outputs": [
                {
                    "data": {
                        "image/png": "[encoded data removed]",
                        "text/plain": [
                            "plot without title"
                        ]
                    },
                    "metadata": {
                        "image/png": {
                            "height": 420,
                            "width": 420
                        }
                    },
                    "output_type": "display_data"
                }
            ],
            "source": [
                "importance_matrix = xgb.importance(model = modelo_xgb)\n",
                "xgb.plot.importance(importance_matrix = importance_matrix)\n"
            ]
        },
        {
            "cell_type": "markdown",
            "metadata": {},
            "source": [
                "Ahora, generaremos la curva ROC\n",
                "\n"
            ]
        },
        {
            "cell_type": "code",
            "execution_count": 26,
            "metadata": {
                "vscode": {
                    "languageId": "r"
                }
            },
            "outputs": [
                {
                    "name": "stderr",
                    "output_type": "stream",
                    "text": [
                        "Setting levels: control = 0, case = 1\n",
                        "\n",
                        "Setting direction: controls < cases\n",
                        "\n"
                    ]
                },
                {
                    "data": {
                        "text/html": [
                            "0.999314552647886"
                        ],
                        "text/latex": [
                            "0.999314552647886"
                        ],
                        "text/markdown": [
                            "0.999314552647886"
                        ],
                        "text/plain": [
                            "Area under the curve: 0.9993"
                        ]
                    },
                    "metadata": {},
                    "output_type": "display_data"
                },
                {
                    "data": {
                        "image/png": "[encoded data removed]",
                        "text/plain": [
                            "plot without title"
                        ]
                    },
                    "metadata": {
                        "image/png": {
                            "height": 420,
                            "width": 420
                        }
                    },
                    "output_type": "display_data"
                }
            ],
            "source": [
                "library(ROCR)\n",
                "library(pROC)\n",
                "\n",
                "roc_xgb = roc(y_test, pred_test)\n",
                "auc(roc_xgb)\n",
                "ggroc(roc_xgb)\n"
            ]
        },
        {
            "cell_type": "markdown",
            "metadata": {},
            "source": [
                "#### Random Forest\n",
                "\n"
            ]
        },
        {
            "cell_type": "code",
            "execution_count": 27,
            "metadata": {
                "vscode": {
                    "languageId": "r"
                }
            },
            "outputs": [
                {
                    "data": {
                        "text/plain": [
                            "Confusion Matrix and Statistics\n",
                            "\n",
                            "      y_pred_rf\n",
                            "y_test    0    1\n",
                            "     0 1108    2\n",
                            "     1    0 1890\n",
                            "                                          \n",
                            "               Accuracy : 0.9993          \n",
                            "                 95% CI : (0.9976, 0.9999)\n",
                            "    No Information Rate : 0.6307          \n",
                            "    P-Value [Acc > NIR] : <2e-16          \n",
                            "                                          \n",
                            "                  Kappa : 0.9986          \n",
                            "                                          \n",
                            " Mcnemar's Test P-Value : 0.4795          \n",
                            "                                          \n",
                            "            Sensitivity : 1.0000          \n",
                            "            Specificity : 0.9989          \n",
                            "         Pos Pred Value : 0.9982          \n",
                            "         Neg Pred Value : 1.0000          \n",
                            "             Prevalence : 0.3693          \n",
                            "         Detection Rate : 0.3693          \n",
                            "   Detection Prevalence : 0.3700          \n",
                            "      Balanced Accuracy : 0.9995          \n",
                            "                                          \n",
                            "       'Positive' Class : 0               \n",
                            "                                          "
                        ]
                    },
                    "metadata": {},
                    "output_type": "display_data"
                },
                {
                    "data": {
                        "text/html": [
                            "<table class=\"dataframe\">\n",
                            "<caption>A matrix: 12 × 1 of type dbl</caption>\n",
                            "<thead>\n",
                            "\t<tr><th></th><th scope=col>MeanDecreaseGini</th></tr>\n",
                            "</thead>\n",
                            "<tbody>\n",
                            "\t<tr><th scope=row>Edad</th><td>373.10772</td></tr>\n",
                            "\t<tr><th scope=row>Nivel_EducacionalBas</th><td> 38.79638</td></tr>\n",
                            "\t<tr><th scope=row>Nivel_EducacionalMed</th><td> 38.48435</td></tr>\n",
                            "\t<tr><th scope=row>Nivel_EducacionalPosg</th><td> 22.90965</td></tr>\n",
                            "\t<tr><th scope=row>Nivel_EducacionalSupCom</th><td> 35.30142</td></tr>\n",
                            "\t<tr><th scope=row>Nivel_EducacionalSupInc</th><td> 39.64414</td></tr>\n",
                            "\t<tr><th scope=row>Años_Trabajando</th><td>429.56055</td></tr>\n",
                            "\t<tr><th scope=row>Ingresos</th><td>319.14653</td></tr>\n",
                            "\t<tr><th scope=row>Deuda_Comercial</th><td>518.49396</td></tr>\n",
                            "\t<tr><th scope=row>Deuda_Credito</th><td>458.17054</td></tr>\n",
                            "\t<tr><th scope=row>Otras_Deudas</th><td>395.67047</td></tr>\n",
                            "\t<tr><th scope=row>Ratio_Ingresos_Deudas</th><td>484.61146</td></tr>\n",
                            "</tbody>\n",
                            "</table>\n"
                        ],
                        "text/latex": [
                            "A matrix: 12 × 1 of type dbl\n",
                            "\\begin{tabular}{r|l}\n",
                            "  & MeanDecreaseGini\\\\\n",
                            "\\hline\n",
                            "\tEdad & 373.10772\\\\\n",
                            "\tNivel\\_EducacionalBas &  38.79638\\\\\n",
                            "\tNivel\\_EducacionalMed &  38.48435\\\\\n",
                            "\tNivel\\_EducacionalPosg &  22.90965\\\\\n",
                            "\tNivel\\_EducacionalSupCom &  35.30142\\\\\n",
                            "\tNivel\\_EducacionalSupInc &  39.64414\\\\\n",
                            "\tAños\\_Trabajando & 429.56055\\\\\n",
                            "\tIngresos & 319.14653\\\\\n",
                            "\tDeuda\\_Comercial & 518.49396\\\\\n",
                            "\tDeuda\\_Credito & 458.17054\\\\\n",
                            "\tOtras\\_Deudas & 395.67047\\\\\n",
                            "\tRatio\\_Ingresos\\_Deudas & 484.61146\\\\\n",
                            "\\end{tabular}\n"
                        ],
                        "text/markdown": [
                            "\n",
                            "A matrix: 12 × 1 of type dbl\n",
                            "\n",
                            "| <!--/--> | MeanDecreaseGini |\n",
                            "|---|---|\n",
                            "| Edad | 373.10772 |\n",
                            "| Nivel_EducacionalBas |  38.79638 |\n",
                            "| Nivel_EducacionalMed |  38.48435 |\n",
                            "| Nivel_EducacionalPosg |  22.90965 |\n",
                            "| Nivel_EducacionalSupCom |  35.30142 |\n",
                            "| Nivel_EducacionalSupInc |  39.64414 |\n",
                            "| Años_Trabajando | 429.56055 |\n",
                            "| Ingresos | 319.14653 |\n",
                            "| Deuda_Comercial | 518.49396 |\n",
                            "| Deuda_Credito | 458.17054 |\n",
                            "| Otras_Deudas | 395.67047 |\n",
                            "| Ratio_Ingresos_Deudas | 484.61146 |\n",
                            "\n"
                        ],
                        "text/plain": [
                            "                        MeanDecreaseGini\n",
                            "Edad                    373.10772       \n",
                            "Nivel_EducacionalBas     38.79638       \n",
                            "Nivel_EducacionalMed     38.48435       \n",
                            "Nivel_EducacionalPosg    22.90965       \n",
                            "Nivel_EducacionalSupCom  35.30142       \n",
                            "Nivel_EducacionalSupInc  39.64414       \n",
                            "Años_Trabajando         429.56055       \n",
                            "Ingresos                319.14653       \n",
                            "Deuda_Comercial         518.49396       \n",
                            "Deuda_Credito           458.17054       \n",
                            "Otras_Deudas            395.67047       \n",
                            "Ratio_Ingresos_Deudas   484.61146       "
                        ]
                    },
                    "metadata": {},
                    "output_type": "display_data"
                },
                {
                    "name": "stderr",
                    "output_type": "stream",
                    "text": [
                        "Setting levels: control = 0, case = 1\n",
                        "\n",
                        "Setting direction: controls < cases\n",
                        "\n"
                    ]
                },
                {
                    "data": {
                        "text/html": [
                            "1"
                        ],
                        "text/latex": [
                            "1"
                        ],
                        "text/markdown": [
                            "1"
                        ],
                        "text/plain": [
                            "Area under the curve: 1"
                        ]
                    },
                    "metadata": {},
                    "output_type": "display_data"
                },
                {
                    "data": {
                        "image/png": "[encoded data removed]",
                        "text/plain": [
                            "Plot with title \"modelo_rf\""
                        ]
                    },
                    "metadata": {
                        "image/png": {
                            "height": 420,
                            "width": 420
                        }
                    },
                    "output_type": "display_data"
                },
                {
                    "data": {
                        "image/png": "[encoded data removed]",
                        "text/plain": [
                            "plot without title"
                        ]
                    },
                    "metadata": {
                        "image/png": {
                            "height": 420,
                            "width": 420
                        }
                    },
                    "output_type": "display_data"
                }
            ],
            "source": [
                "library(randomForest)\n",
                "\n",
                "train_final = train[,c(1,2,3,4,5,6,7,8,9,10,11,12,13)]\n",
                "modelo_rf = randomForest( Default~.,\n",
                "                         data = train_final,\n",
                "                         ntree = 10)\n",
                "\n",
                "y_pred_rf = predict(modelo_rf, x_test)\n",
                "y_pred_prob_rf = predict(modelo_rf, x_test, type = 'prob')\n",
                "cm_rf = table(y_test,y_pred_rf)\n",
                "confusionMatrix(cm_rf)\n",
                "importance(modelo_rf)\n",
                "plot(modelo_rf)\n",
                "curva_roc_rf = roc(y_test,y_pred_prob_rf[,2])\n",
                "auc(curva_roc_rf)\n",
                "ggroc(curva_roc_rf)\n"
            ]
        },
        {
            "cell_type": "markdown",
            "metadata": {},
            "source": [
                "#### Naive Bayes\n",
                "\n"
            ]
        },
        {
            "cell_type": "code",
            "execution_count": 28,
            "metadata": {
                "vscode": {
                    "languageId": "r"
                }
            },
            "outputs": [
                {
                    "data": {
                        "text/plain": [
                            "Confusion Matrix and Statistics\n",
                            "\n",
                            "      y_pred_nb\n",
                            "y_test    0    1\n",
                            "     0  585  525\n",
                            "     1  236 1654\n",
                            "                                          \n",
                            "               Accuracy : 0.7463          \n",
                            "                 95% CI : (0.7304, 0.7618)\n",
                            "    No Information Rate : 0.7263          \n",
                            "    P-Value [Acc > NIR] : 0.007093        \n",
                            "                                          \n",
                            "                  Kappa : 0.425           \n",
                            "                                          \n",
                            " Mcnemar's Test P-Value : < 2.2e-16       \n",
                            "                                          \n",
                            "            Sensitivity : 0.7125          \n",
                            "            Specificity : 0.7591          \n",
                            "         Pos Pred Value : 0.5270          \n",
                            "         Neg Pred Value : 0.8751          \n",
                            "             Prevalence : 0.2737          \n",
                            "         Detection Rate : 0.1950          \n",
                            "   Detection Prevalence : 0.3700          \n",
                            "      Balanced Accuracy : 0.7358          \n",
                            "                                          \n",
                            "       'Positive' Class : 0               \n",
                            "                                          "
                        ]
                    },
                    "metadata": {},
                    "output_type": "display_data"
                },
                {
                    "name": "stderr",
                    "output_type": "stream",
                    "text": [
                        "Setting levels: control = 0, case = 1\n",
                        "\n",
                        "Setting direction: controls < cases\n",
                        "\n"
                    ]
                },
                {
                    "data": {
                        "text/html": [
                            "0.809370322703656"
                        ],
                        "text/latex": [
                            "0.809370322703656"
                        ],
                        "text/markdown": [
                            "0.809370322703656"
                        ],
                        "text/plain": [
                            "Area under the curve: 0.8094"
                        ]
                    },
                    "metadata": {},
                    "output_type": "display_data"
                },
                {
                    "data": {
                        "image/png": "[encoded data removed]",
                        "text/plain": [
                            "plot without title"
                        ]
                    },
                    "metadata": {
                        "image/png": {
                            "height": 420,
                            "width": 420
                        }
                    },
                    "output_type": "display_data"
                }
            ],
            "source": [
                "library(e1071)\n",
                "library(caTools)\n",
                "\n",
                "modelo_nb = naiveBayes(Default ~.,\n",
                "                       data = train_final)\n",
                "\n",
                "y_pred_nb = predict(modelo_nb, x_test)\n",
                "y_pred_nb_num = as.numeric(y_pred_nb)\n",
                "y_pred_prob_nb = predict(modelo_nb, x_test, type = 'raw')\n",
                "prediccion_nb = prediction(y_pred_nb_num,y_test)\n",
                "cm_nb = table(y_test,y_pred_nb)\n",
                "confusionMatrix(cm_nb)\n",
                "roc_nb = roc(y_test,y_pred_prob_nb[,2])\n",
                "auc(roc_nb)\n",
                "ggroc(roc_nb)\n"
            ]
        },
        {
            "cell_type": "markdown",
            "metadata": {},
            "source": [
                "#### Support Vector Machine\n",
                " \n"
            ]
        },
        {
            "cell_type": "code",
            "execution_count": 29,
            "metadata": {
                "vscode": {
                    "languageId": "r"
                }
            },
            "outputs": [
                {
                    "data": {
                        "text/plain": [
                            "Confusion Matrix and Statistics\n",
                            "\n",
                            "      y_pred_svm\n",
                            "y_test    0    1\n",
                            "     0  590  520\n",
                            "     1  137 1753\n",
                            "                                          \n",
                            "               Accuracy : 0.781           \n",
                            "                 95% CI : (0.7658, 0.7957)\n",
                            "    No Information Rate : 0.7577          \n",
                            "    P-Value [Acc > NIR] : 0.001389        \n",
                            "                                          \n",
                            "                  Kappa : 0.4942          \n",
                            "                                          \n",
                            " Mcnemar's Test P-Value : < 2.2e-16       \n",
                            "                                          \n",
                            "            Sensitivity : 0.8116          \n",
                            "            Specificity : 0.7712          \n",
                            "         Pos Pred Value : 0.5315          \n",
                            "         Neg Pred Value : 0.9275          \n",
                            "             Prevalence : 0.2423          \n",
                            "         Detection Rate : 0.1967          \n",
                            "   Detection Prevalence : 0.3700          \n",
                            "      Balanced Accuracy : 0.7914          \n",
                            "                                          \n",
                            "       'Positive' Class : 0               \n",
                            "                                          "
                        ]
                    },
                    "metadata": {},
                    "output_type": "display_data"
                },
                {
                    "name": "stderr",
                    "output_type": "stream",
                    "text": [
                        "Setting levels: control = 0, case = 1\n",
                        "\n",
                        "Setting direction: controls < cases\n",
                        "\n"
                    ]
                },
                {
                    "data": {
                        "text/html": [
                            "0.858526145192812"
                        ],
                        "text/latex": [
                            "0.858526145192812"
                        ],
                        "text/markdown": [
                            "0.858526145192812"
                        ],
                        "text/plain": [
                            "Area under the curve: 0.8585"
                        ]
                    },
                    "metadata": {},
                    "output_type": "display_data"
                },
                {
                    "data": {
                        "image/png": "[encoded data removed]",
                        "text/plain": [
                            "plot without title"
                        ]
                    },
                    "metadata": {
                        "image/png": {
                            "height": 420,
                            "width": 420
                        }
                    },
                    "output_type": "display_data"
                }
            ],
            "source": [
                "modelo_svm = svm(Default ~.,\n",
                "                 data = train_final,\n",
                "                 type = 'C-classification',\n",
                "                 kernel = 'radial',\n",
                "                 probability = TRUE)\n",
                "\n",
                "y_pred_svm = predict(modelo_svm, x_test)\n",
                "y_pred_prob_svm = predict(modelo_svm, x_test, probability = TRUE)\n",
                "y_pred_prob_svm_prob = attr(y_pred_prob_svm,'probabilities')\n",
                "cm_svm = table(y_test, y_pred_svm)\n",
                "confusionMatrix(cm_svm)              \n",
                "roc_svm = roc(y_test, y_pred_prob_svm_prob[,2])\n",
                "auc(roc_svm)\n",
                "ggroc(roc_svm)\n"
            ]
        },
        {
            "cell_type": "markdown",
            "metadata": {},
            "source": [
                "### Comparación final\n",
                "\n"
            ]
        },
        {
            "cell_type": "code",
            "execution_count": 30,
            "metadata": {
                "vscode": {
                    "languageId": "r"
                }
            },
            "outputs": [
                {
                    "name": "stdout",
                    "output_type": "stream",
                    "text": [
                        "Area under the curve: 0.8585\n",
                        "Area under the curve: 0.8094\n",
                        "Area under the curve: 1\n",
                        "Area under the curve: 0.9993\n"
                    ]
                },
                {
                    "data": {
                        "image/png": "[encoded data removed]",
                        "text/plain": [
                            "plot without title"
                        ]
                    },
                    "metadata": {
                        "image/png": {
                            "height": 420,
                            "width": 420
                        }
                    },
                    "output_type": "display_data"
                }
            ],
            "source": [
                "\n",
                "\n",
                "print(auc(roc_svm))\n",
                "print(auc(roc_nb))\n",
                "print(auc(curva_roc_rf))\n",
                "print(auc(roc_xgb))\n",
                "\n",
                "\n",
                "ggroc(list(naive_bayes = roc_nb, svm = roc_svm, random_forest = curva_roc_rf, xgboost = roc_xgb))"
            ]
        },
        {
            "cell_type": "markdown",
            "metadata": {},
            "source": [
                "### Conclusiones\n",
                "\n",
                "En este notebook hemos visto la aplicación bastante genérica de 04 algoritmos de machine learning para resolver un problema de clasificación. En general, esto es una introducción a la aplicación de algoritmos debido a que todavía está pendiente la calibración de hiperparámetros, entre otras técnicas.\n"
            ]
        }
    ],
    "metadata": {
        "anaconda-cloud": "",
        "kernelspec": {
            "display_name": "R",
            "langauge": "R",
            "language": "R",
            "name": "ir"
        },
        "language_info": {
            "codemirror_mode": "r",
            "file_extension": ".r",
            "mimetype": "text/x-r-source",
            "name": "R",
            "pygments_lexer": "r",
            "version": "4.1.3"
        }
    },
    "nbformat": 4,
    "nbformat_minor": 1
}
